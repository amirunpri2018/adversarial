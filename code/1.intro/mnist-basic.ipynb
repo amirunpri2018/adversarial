{
 "cells": [
  {
   "cell_type": "code",
   "execution_count": 1,
   "metadata": {},
   "outputs": [],
   "source": [
    "import sys\n",
    "sys.path.append('../')\n",
    "import utils\n",
    "import torch\n",
    "import torch.nn as nn\n",
    "import torch.nn.functional as F\n",
    "import torch.optim as optim\n",
    "from torch.autograd import Variable\n",
    "%matplotlib inline"
   ]
  },
  {
   "cell_type": "code",
   "execution_count": 2,
   "metadata": {},
   "outputs": [],
   "source": [
    "train_loader = utils.mnist_loader(train=True)\n",
    "test_loader = utils.mnist_loader(train=False)"
   ]
  },
  {
   "cell_type": "code",
   "execution_count": 3,
   "metadata": {},
   "outputs": [],
   "source": [
    "class Net(nn.Module):\n",
    "    def __init__(self):\n",
    "        super(Net, self).__init__()\n",
    "        self.fc1 = nn.Linear(784, 100) # params - 2D-Tensor 28*28x100\n",
    "        self.fc2 = nn.Linear(100, 10) # params - 2D-Tensor 28*28x100\n",
    "        \n",
    "    def forward(self, x):\n",
    "        # x.shape = [50, 1, 28, 28] => [50, 784] => [50, 100] => [50, 10]\n",
    "        x = x.view(-1, 28*28)\n",
    "        x = F.relu(self.fc1(x))\n",
    "        x = self.fc2(x)\n",
    "        x = F.softmax(x, dim=1)\n",
    "        return x"
   ]
  },
  {
   "cell_type": "code",
   "execution_count": 4,
   "metadata": {},
   "outputs": [],
   "source": [
    "model = Net()\n",
    "optimizer = optim.SGD(model.parameters(), lr=0.01)"
   ]
  },
  {
   "cell_type": "code",
   "execution_count": 5,
   "metadata": {},
   "outputs": [],
   "source": [
    "def train(epoch):\n",
    "    for batch_idx, (data, target) in enumerate(train_loader):\n",
    "        data, target = Variable(data), Variable(target)\n",
    "        optimizer.zero_grad()\n",
    "        output = model(data)\n",
    "        loss = F.cross_entropy(output, target)\n",
    "        loss.backward()\n",
    "        optimizer.step()\n",
    "        if batch_idx % 200 == 0:\n",
    "            print('Train Epoch: {} [{}/{} ({:.0f}%)]\\tLoss: {:.6f}'.format(\n",
    "                epoch, batch_idx * len(data), len(train_loader.dataset),\n",
    "                100. * batch_idx / len(train_loader), loss.data.item()))\n",
    "    else:\n",
    "        print('Train Epoch: {} [{}/{} ({:.0f}%)]\\tLoss: {:.6f}'.format(\n",
    "            epoch, batch_idx * len(data), len(train_loader.dataset),\n",
    "            100. * batch_idx / len(train_loader), loss.data.item()))"
   ]
  },
  {
   "cell_type": "code",
   "execution_count": 6,
   "metadata": {},
   "outputs": [],
   "source": [
    "def test(log=None):\n",
    "    with torch.no_grad():\n",
    "        test_loss = 0\n",
    "        test_correct = 0\n",
    "        for data, target in test_loader:\n",
    "            data, target = Variable(data), Variable(target)\n",
    "            output = model(data)\n",
    "            test_loss += F.cross_entropy(output, target, size_average=False).data.item() # sum up batch loss\n",
    "            pred = output.data.max(1, keepdim=True)[1] # get the index of the max log-probability\n",
    "            test_correct += pred.eq(target.data.view_as(pred)).sum()\n",
    "        test_loss /= len(test_loader.dataset)\n",
    "        test_correct_percent = 100. * test_correct / len(test_loader.dataset)\n",
    "\n",
    "        train_loss = 0\n",
    "        train_correct = 0\n",
    "        for data, target in train_loader:\n",
    "            data, target = Variable(data), Variable(target)\n",
    "            output = model(data)\n",
    "            train_loss += F.cross_entropy(output, target, size_average=False).data.item() # sum up batch loss\n",
    "            pred = output.data.max(1, keepdim=True)[1] # get the index of the max log-probability\n",
    "            train_correct += pred.eq(target.data.view_as(pred)).sum()\n",
    "        train_loss /= len(train_loader.dataset)\n",
    "        train_correct_percent = 100. * train_correct / len(train_loader.dataset)\n",
    "    \n",
    "    print('\\nTest set:  Average loss: {:.4f}, Accuracy: {}/{} ({:.0f}%)'.format(\n",
    "        test_loss, test_correct, len(test_loader.dataset), test_correct_percent))\n",
    "    print('Train set: Average loss: {:.4f}, Accuracy: {}/{} ({:.0f}%)\\n'.format(\n",
    "        train_loss, train_correct, len(train_loader.dataset), train_correct_percent))\n",
    "    \n",
    "    log['test'].append((test_loss, test_correct_percent))\n",
    "    log['train'].append((train_loss, train_correct_percent))"
   ]
  },
  {
   "cell_type": "code",
   "execution_count": 7,
   "metadata": {},
   "outputs": [],
   "source": [
    "err_log = {'test': [], 'train': []}"
   ]
  },
  {
   "cell_type": "code",
   "execution_count": 8,
   "metadata": {},
   "outputs": [
    {
     "name": "stdout",
     "output_type": "stream",
     "text": [
      "Train Epoch: 1 [0/60000 (0%)]\tLoss: 2.303167\n",
      "Train Epoch: 1 [10000/60000 (17%)]\tLoss: 2.299415\n",
      "Train Epoch: 1 [20000/60000 (33%)]\tLoss: 2.295941\n",
      "Train Epoch: 1 [30000/60000 (50%)]\tLoss: 2.288714\n",
      "Train Epoch: 1 [40000/60000 (67%)]\tLoss: 2.283845\n",
      "Train Epoch: 1 [50000/60000 (83%)]\tLoss: 2.276202\n",
      "Train Epoch: 1 [59950/60000 (100%)]\tLoss: 2.267949\n",
      "\n",
      "Test set:  Average loss: 2.2658, Accuracy: 5514/10000 (55%)\n",
      "Train set: Average loss: 2.2665, Accuracy: 33442/60000 (55%)\n",
      "\n",
      "Train Epoch: 2 [0/60000 (0%)]\tLoss: 2.273180\n",
      "Train Epoch: 2 [10000/60000 (17%)]\tLoss: 2.244653\n",
      "Train Epoch: 2 [20000/60000 (33%)]\tLoss: 2.216279\n",
      "Train Epoch: 2 [30000/60000 (50%)]\tLoss: 2.159019\n",
      "Train Epoch: 2 [40000/60000 (67%)]\tLoss: 2.215839\n",
      "Train Epoch: 2 [50000/60000 (83%)]\tLoss: 2.153721\n",
      "Train Epoch: 2 [59950/60000 (100%)]\tLoss: 2.047341\n",
      "\n",
      "Test set:  Average loss: 2.0429, Accuracy: 5498/10000 (54%)\n",
      "Train set: Average loss: 2.0452, Accuracy: 32894/60000 (54%)\n",
      "\n",
      "Train Epoch: 3 [0/60000 (0%)]\tLoss: 2.087493\n",
      "Train Epoch: 3 [10000/60000 (17%)]\tLoss: 1.985548\n",
      "Train Epoch: 3 [20000/60000 (33%)]\tLoss: 1.951329\n",
      "Train Epoch: 3 [30000/60000 (50%)]\tLoss: 1.833695\n",
      "Train Epoch: 3 [40000/60000 (67%)]\tLoss: 1.917122\n",
      "Train Epoch: 3 [50000/60000 (83%)]\tLoss: 1.952902\n",
      "Train Epoch: 3 [59950/60000 (100%)]\tLoss: 1.926672\n",
      "\n",
      "Test set:  Average loss: 1.8656, Accuracy: 6522/10000 (65%)\n",
      "Train set: Average loss: 1.8691, Accuracy: 38958/60000 (64%)\n",
      "\n",
      "Train Epoch: 4 [0/60000 (0%)]\tLoss: 1.868241\n",
      "Train Epoch: 4 [10000/60000 (17%)]\tLoss: 1.881243\n",
      "Train Epoch: 4 [20000/60000 (33%)]\tLoss: 1.849737\n",
      "Train Epoch: 4 [30000/60000 (50%)]\tLoss: 1.843539\n",
      "Train Epoch: 4 [40000/60000 (67%)]\tLoss: 1.917399\n",
      "Train Epoch: 4 [50000/60000 (83%)]\tLoss: 1.876473\n",
      "Train Epoch: 4 [59950/60000 (100%)]\tLoss: 1.825265\n",
      "\n",
      "Test set:  Average loss: 1.8070, Accuracy: 7032/10000 (70%)\n",
      "Train set: Average loss: 1.8104, Accuracy: 41853/60000 (69%)\n",
      "\n",
      "Train Epoch: 5 [0/60000 (0%)]\tLoss: 1.792935\n",
      "Train Epoch: 5 [10000/60000 (17%)]\tLoss: 1.875205\n",
      "Train Epoch: 5 [20000/60000 (33%)]\tLoss: 1.827022\n",
      "Train Epoch: 5 [30000/60000 (50%)]\tLoss: 1.743168\n",
      "Train Epoch: 5 [40000/60000 (67%)]\tLoss: 1.834562\n",
      "Train Epoch: 5 [50000/60000 (83%)]\tLoss: 1.860903\n",
      "Train Epoch: 5 [59950/60000 (100%)]\tLoss: 1.764632\n",
      "\n",
      "Test set:  Average loss: 1.7475, Accuracy: 7774/10000 (77%)\n",
      "Train set: Average loss: 1.7520, Accuracy: 46304/60000 (77%)\n",
      "\n",
      "Train Epoch: 6 [0/60000 (0%)]\tLoss: 1.675315\n",
      "Train Epoch: 6 [10000/60000 (17%)]\tLoss: 1.663694\n",
      "Train Epoch: 6 [20000/60000 (33%)]\tLoss: 1.692855\n",
      "Train Epoch: 6 [30000/60000 (50%)]\tLoss: 1.753487\n",
      "Train Epoch: 6 [40000/60000 (67%)]\tLoss: 1.735132\n",
      "Train Epoch: 6 [50000/60000 (83%)]\tLoss: 1.767937\n",
      "Train Epoch: 6 [59950/60000 (100%)]\tLoss: 1.681421\n",
      "\n",
      "Test set:  Average loss: 1.6957, Accuracy: 8218/10000 (82%)\n",
      "Train set: Average loss: 1.7024, Accuracy: 48946/60000 (81%)\n",
      "\n",
      "Train Epoch: 7 [0/60000 (0%)]\tLoss: 1.688208\n",
      "Train Epoch: 7 [10000/60000 (17%)]\tLoss: 1.736161\n",
      "Train Epoch: 7 [20000/60000 (33%)]\tLoss: 1.679645\n",
      "Train Epoch: 7 [30000/60000 (50%)]\tLoss: 1.741488\n",
      "Train Epoch: 7 [40000/60000 (67%)]\tLoss: 1.584416\n",
      "Train Epoch: 7 [50000/60000 (83%)]\tLoss: 1.634495\n",
      "Train Epoch: 7 [59950/60000 (100%)]\tLoss: 1.679651\n",
      "\n",
      "Test set:  Average loss: 1.6441, Accuracy: 8816/10000 (88%)\n",
      "Train set: Average loss: 1.6520, Accuracy: 52543/60000 (87%)\n",
      "\n",
      "Train Epoch: 8 [0/60000 (0%)]\tLoss: 1.657875\n",
      "Train Epoch: 8 [10000/60000 (17%)]\tLoss: 1.643479\n",
      "Train Epoch: 8 [20000/60000 (33%)]\tLoss: 1.662565\n",
      "Train Epoch: 8 [30000/60000 (50%)]\tLoss: 1.583555\n",
      "Train Epoch: 8 [40000/60000 (67%)]\tLoss: 1.698267\n",
      "Train Epoch: 8 [50000/60000 (83%)]\tLoss: 1.627221\n",
      "Train Epoch: 8 [59950/60000 (100%)]\tLoss: 1.560855\n",
      "\n",
      "Test set:  Average loss: 1.6212, Accuracy: 8898/10000 (88%)\n",
      "Train set: Average loss: 1.6287, Accuracy: 53064/60000 (88%)\n",
      "\n",
      "Train Epoch: 9 [0/60000 (0%)]\tLoss: 1.584806\n",
      "Train Epoch: 9 [10000/60000 (17%)]\tLoss: 1.621150\n",
      "Train Epoch: 9 [20000/60000 (33%)]\tLoss: 1.567130\n",
      "Train Epoch: 9 [30000/60000 (50%)]\tLoss: 1.557240\n",
      "Train Epoch: 9 [40000/60000 (67%)]\tLoss: 1.666987\n",
      "Train Epoch: 9 [50000/60000 (83%)]\tLoss: 1.581010\n",
      "Train Epoch: 9 [59950/60000 (100%)]\tLoss: 1.631947\n",
      "\n",
      "Test set:  Average loss: 1.6069, Accuracy: 8944/10000 (89%)\n",
      "Train set: Average loss: 1.6139, Accuracy: 53379/60000 (88%)\n",
      "\n",
      "Train Epoch: 10 [0/60000 (0%)]\tLoss: 1.572042\n",
      "Train Epoch: 10 [10000/60000 (17%)]\tLoss: 1.553500\n",
      "Train Epoch: 10 [20000/60000 (33%)]\tLoss: 1.600345\n",
      "Train Epoch: 10 [30000/60000 (50%)]\tLoss: 1.643822\n",
      "Train Epoch: 10 [40000/60000 (67%)]\tLoss: 1.664619\n",
      "Train Epoch: 10 [50000/60000 (83%)]\tLoss: 1.585460\n",
      "Train Epoch: 10 [59950/60000 (100%)]\tLoss: 1.580748\n",
      "\n",
      "Test set:  Average loss: 1.5972, Accuracy: 8972/10000 (89%)\n",
      "Train set: Average loss: 1.6038, Accuracy: 53609/60000 (89%)\n",
      "\n",
      "Train Epoch: 11 [0/60000 (0%)]\tLoss: 1.570365\n",
      "Train Epoch: 11 [10000/60000 (17%)]\tLoss: 1.616696\n",
      "Train Epoch: 11 [20000/60000 (33%)]\tLoss: 1.585829\n",
      "Train Epoch: 11 [30000/60000 (50%)]\tLoss: 1.609839\n",
      "Train Epoch: 11 [40000/60000 (67%)]\tLoss: 1.551811\n",
      "Train Epoch: 11 [50000/60000 (83%)]\tLoss: 1.554273\n",
      "Train Epoch: 11 [59950/60000 (100%)]\tLoss: 1.527866\n",
      "\n",
      "Test set:  Average loss: 1.5900, Accuracy: 9001/10000 (90%)\n",
      "Train set: Average loss: 1.5963, Accuracy: 53778/60000 (89%)\n",
      "\n",
      "Train Epoch: 12 [0/60000 (0%)]\tLoss: 1.613366\n",
      "Train Epoch: 12 [10000/60000 (17%)]\tLoss: 1.521525\n",
      "Train Epoch: 12 [20000/60000 (33%)]\tLoss: 1.586799\n",
      "Train Epoch: 12 [30000/60000 (50%)]\tLoss: 1.618738\n",
      "Train Epoch: 12 [40000/60000 (67%)]\tLoss: 1.596108\n",
      "Train Epoch: 12 [50000/60000 (83%)]\tLoss: 1.588780\n",
      "Train Epoch: 12 [59950/60000 (100%)]\tLoss: 1.568770\n",
      "\n",
      "Test set:  Average loss: 1.5842, Accuracy: 9041/10000 (90%)\n",
      "Train set: Average loss: 1.5904, Accuracy: 53937/60000 (89%)\n",
      "\n",
      "Train Epoch: 13 [0/60000 (0%)]\tLoss: 1.634577\n",
      "Train Epoch: 13 [10000/60000 (17%)]\tLoss: 1.554932\n",
      "Train Epoch: 13 [20000/60000 (33%)]\tLoss: 1.576734\n",
      "Train Epoch: 13 [30000/60000 (50%)]\tLoss: 1.637373\n",
      "Train Epoch: 13 [40000/60000 (67%)]\tLoss: 1.653034\n",
      "Train Epoch: 13 [50000/60000 (83%)]\tLoss: 1.540805\n",
      "Train Epoch: 13 [59950/60000 (100%)]\tLoss: 1.623178\n",
      "\n",
      "Test set:  Average loss: 1.5799, Accuracy: 9050/10000 (90%)\n",
      "Train set: Average loss: 1.5858, Accuracy: 54040/60000 (90%)\n",
      "\n",
      "Train Epoch: 14 [0/60000 (0%)]\tLoss: 1.600251\n",
      "Train Epoch: 14 [10000/60000 (17%)]\tLoss: 1.587775\n",
      "Train Epoch: 14 [20000/60000 (33%)]\tLoss: 1.522099\n",
      "Train Epoch: 14 [30000/60000 (50%)]\tLoss: 1.502902\n",
      "Train Epoch: 14 [40000/60000 (67%)]\tLoss: 1.553308\n",
      "Train Epoch: 14 [50000/60000 (83%)]\tLoss: 1.548439\n",
      "Train Epoch: 14 [59950/60000 (100%)]\tLoss: 1.612535\n",
      "\n",
      "Test set:  Average loss: 1.5761, Accuracy: 9069/10000 (90%)\n",
      "Train set: Average loss: 1.5817, Accuracy: 54192/60000 (90%)\n",
      "\n",
      "Train Epoch: 15 [0/60000 (0%)]\tLoss: 1.549397\n",
      "Train Epoch: 15 [10000/60000 (17%)]\tLoss: 1.579523\n",
      "Train Epoch: 15 [20000/60000 (33%)]\tLoss: 1.608558\n",
      "Train Epoch: 15 [30000/60000 (50%)]\tLoss: 1.626349\n",
      "Train Epoch: 15 [40000/60000 (67%)]\tLoss: 1.534250\n",
      "Train Epoch: 15 [50000/60000 (83%)]\tLoss: 1.578166\n",
      "Train Epoch: 15 [59950/60000 (100%)]\tLoss: 1.662324\n",
      "\n",
      "Test set:  Average loss: 1.5732, Accuracy: 9083/10000 (90%)\n",
      "Train set: Average loss: 1.5784, Accuracy: 54267/60000 (90%)\n",
      "\n",
      "Train Epoch: 16 [0/60000 (0%)]\tLoss: 1.527741\n",
      "Train Epoch: 16 [10000/60000 (17%)]\tLoss: 1.585049\n",
      "Train Epoch: 16 [20000/60000 (33%)]\tLoss: 1.575308\n",
      "Train Epoch: 16 [30000/60000 (50%)]\tLoss: 1.568895\n",
      "Train Epoch: 16 [40000/60000 (67%)]\tLoss: 1.619337\n",
      "Train Epoch: 16 [50000/60000 (83%)]\tLoss: 1.592574\n",
      "Train Epoch: 16 [59950/60000 (100%)]\tLoss: 1.596196\n",
      "\n",
      "Test set:  Average loss: 1.5703, Accuracy: 9099/10000 (90%)\n",
      "Train set: Average loss: 1.5757, Accuracy: 54369/60000 (90%)\n",
      "\n",
      "Train Epoch: 17 [0/60000 (0%)]\tLoss: 1.570897\n",
      "Train Epoch: 17 [10000/60000 (17%)]\tLoss: 1.550281\n",
      "Train Epoch: 17 [20000/60000 (33%)]\tLoss: 1.567545\n",
      "Train Epoch: 17 [30000/60000 (50%)]\tLoss: 1.607853\n",
      "Train Epoch: 17 [40000/60000 (67%)]\tLoss: 1.585104\n",
      "Train Epoch: 17 [50000/60000 (83%)]\tLoss: 1.589919\n",
      "Train Epoch: 17 [59950/60000 (100%)]\tLoss: 1.666983\n",
      "\n",
      "Test set:  Average loss: 1.5681, Accuracy: 9115/10000 (91%)\n",
      "Train set: Average loss: 1.5730, Accuracy: 54477/60000 (90%)\n",
      "\n",
      "Train Epoch: 18 [0/60000 (0%)]\tLoss: 1.551667\n",
      "Train Epoch: 18 [10000/60000 (17%)]\tLoss: 1.555086\n",
      "Train Epoch: 18 [20000/60000 (33%)]\tLoss: 1.549370\n",
      "Train Epoch: 18 [30000/60000 (50%)]\tLoss: 1.513552\n"
     ]
    },
    {
     "name": "stdout",
     "output_type": "stream",
     "text": [
      "Train Epoch: 18 [40000/60000 (67%)]\tLoss: 1.567418\n",
      "Train Epoch: 18 [50000/60000 (83%)]\tLoss: 1.630505\n",
      "Train Epoch: 18 [59950/60000 (100%)]\tLoss: 1.533025\n",
      "\n",
      "Test set:  Average loss: 1.5657, Accuracy: 9127/10000 (91%)\n",
      "Train set: Average loss: 1.5707, Accuracy: 54552/60000 (90%)\n",
      "\n",
      "Train Epoch: 19 [0/60000 (0%)]\tLoss: 1.566524\n",
      "Train Epoch: 19 [10000/60000 (17%)]\tLoss: 1.542142\n",
      "Train Epoch: 19 [20000/60000 (33%)]\tLoss: 1.560133\n",
      "Train Epoch: 19 [30000/60000 (50%)]\tLoss: 1.513331\n",
      "Train Epoch: 19 [40000/60000 (67%)]\tLoss: 1.581413\n",
      "Train Epoch: 19 [50000/60000 (83%)]\tLoss: 1.637225\n",
      "Train Epoch: 19 [59950/60000 (100%)]\tLoss: 1.596461\n",
      "\n",
      "Test set:  Average loss: 1.5642, Accuracy: 9132/10000 (91%)\n",
      "Train set: Average loss: 1.5688, Accuracy: 54606/60000 (91%)\n",
      "\n",
      "Train Epoch: 20 [0/60000 (0%)]\tLoss: 1.648380\n",
      "Train Epoch: 20 [10000/60000 (17%)]\tLoss: 1.568894\n",
      "Train Epoch: 20 [20000/60000 (33%)]\tLoss: 1.541326\n",
      "Train Epoch: 20 [30000/60000 (50%)]\tLoss: 1.583173\n",
      "Train Epoch: 20 [40000/60000 (67%)]\tLoss: 1.522262\n",
      "Train Epoch: 20 [50000/60000 (83%)]\tLoss: 1.565710\n",
      "Train Epoch: 20 [59950/60000 (100%)]\tLoss: 1.559673\n",
      "\n",
      "Test set:  Average loss: 1.5622, Accuracy: 9138/10000 (91%)\n",
      "Train set: Average loss: 1.5667, Accuracy: 54694/60000 (91%)\n",
      "\n"
     ]
    }
   ],
   "source": [
    "for epoch in range(1, 21):\n",
    "    train(epoch)\n",
    "    test(err_log)"
   ]
  },
  {
   "cell_type": "code",
   "execution_count": 9,
   "metadata": {},
   "outputs": [
    {
     "data": {
      "image/png": "[encoded data removed]",
      "text/plain": [
       "<Figure size 432x288 with 1 Axes>"
      ]
     },
     "metadata": {},
     "output_type": "display_data"
    }
   ],
   "source": [
    "utils.plot_graphs(err_log, 'loss')"
   ]
  },
  {
   "cell_type": "code",
   "execution_count": 10,
   "metadata": {},
   "outputs": [
    {
     "data": {
      "image/png": "[encoded data removed]",
      "text/plain": [
       "<Figure size 432x288 with 1 Axes>"
      ]
     },
     "metadata": {},
     "output_type": "display_data"
    }
   ],
   "source": [
    "utils.plot_graphs(err_log, 'accuracy')"
   ]
  },
  {
   "cell_type": "code",
   "execution_count": 11,
   "metadata": {},
   "outputs": [
    {
     "data": {
      "image/png": "[encoded data removed]",
      "text/plain": [
       "<Figure size 800x400 with 50 Axes>"
      ]
     },
     "metadata": {},
     "output_type": "display_data"
    },
    {
     "name": "stdout",
     "output_type": "stream",
     "text": [
      "[[3 1 2 6 2 7 8 1 3 9]\n",
      " [2 7 6 3 1 2 1 2 5 6]\n",
      " [2 8 7 1 9 6 1 3 0 7]\n",
      " [5 4 1 8 2 9 5 8 8 8]\n",
      " [1 0 7 7 6 9 4 8 1 1]]\n"
     ]
    }
   ],
   "source": [
    "utils.plot_results(model, train_loader, (5, 10))"
   ]
  },
  {
   "cell_type": "code",
   "execution_count": null,
   "metadata": {},
   "outputs": [],
   "source": []
  }
 ],
 "metadata": {
  "kernelspec": {
   "display_name": "Python 3",
   "language": "python",
   "name": "python3"
  },
  "language_info": {
   "codemirror_mode": {
    "name": "ipython",
    "version": 3
   },
   "file_extension": ".py",
   "mimetype": "text/x-python",
   "name": "python",
   "nbconvert_exporter": "python",
   "pygments_lexer": "ipython3",
   "version": "3.6.3"
  }
 },
 "nbformat": 4,
 "nbformat_minor": 2
}
